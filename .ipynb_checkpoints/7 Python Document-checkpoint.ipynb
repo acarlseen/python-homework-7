{
 "cells": [
  {
   "cell_type": "markdown",
   "metadata": {},
   "source": [
    "# Algorithms, Binary Search & Linked Lists"
   ]
  },
  {
   "cell_type": "markdown",
   "metadata": {},
   "source": [
    "## Tasks Today:\n",
    " \n",
    "1) <b>In-Place Algorithms</b> <br>\n",
    " &nbsp;&nbsp;&nbsp;&nbsp; a) Syntax <br>\n",
    " &nbsp;&nbsp;&nbsp;&nbsp; a) Out of Place Algorithm <br>\n",
    " &nbsp;&nbsp;&nbsp;&nbsp; b) In-Class Exercise #1 <br>\n",
    "2) <b>Two Pointers</b> <br>\n",
    "3) <b>Linked Lists</b> <br>\n",
    "4) <b>Merge Sort</b> <br>\n",
    " &nbsp;&nbsp;&nbsp;&nbsp; a) Video on Algorithms <br>\n",
    " &nbsp;&nbsp;&nbsp;&nbsp; b) How it Works <br>\n",
    "5) <b>Exercises</b> <br>\n",
    " &nbsp;&nbsp;&nbsp;&nbsp; a) Exercise #1 - Reverse a List in Place Using an In-Place Algorithm <br>\n",
    " &nbsp;&nbsp;&nbsp;&nbsp; b) Exercise #2 - Find Distinct Words <br>\n",
    " &nbsp;&nbsp;&nbsp;&nbsp; c) Exercise #3 - Write a program to implement a Linear Search Algorithm. <br>"
   ]
  },
  {
   "cell_type": "markdown",
   "metadata": {},
   "source": [
    "## In-Place Algorithms"
   ]
  },
  {
   "cell_type": "markdown",
   "metadata": {},
   "source": [
    "#### Syntax"
   ]
  },
  {
   "cell_type": "code",
   "execution_count": 15,
   "metadata": {},
   "outputs": [
    {
     "name": "stdout",
     "output_type": "stream",
     "text": [
      "Before Swap: [20, 4, 10]\n",
      "After Swap: [4, 20, 10]\n"
     ]
    }
   ],
   "source": [
    "# var[i], var[i+1] = var[i+1], var[i]\n",
    "# somtimes known as a swap algorithm\n",
    "\n",
    "def swap(list1, x, y, z):\n",
    "    list1[x], list1[y], list1[z] = list1[z], list1[y], list1[x]\n",
    "    return list1\n",
    "\n",
    "my_list = [20, 4, 10]\n",
    "print(f'Before Swap: {my_list}')\n",
    "\n",
    "# swap\n",
    "swap(my_list, 0, 2, 1)\n",
    "\n",
    "print(f'After Swap: {my_list}')"
   ]
  },
  {
   "cell_type": "markdown",
   "metadata": {},
   "source": [
    "#### Out of Place Algorithm"
   ]
  },
  {
   "cell_type": "code",
   "execution_count": 22,
   "metadata": {},
   "outputs": [
    {
     "name": "stdout",
     "output_type": "stream",
     "text": [
      "Before:  ['a', 'b', 'c', 'd']\n",
      "['a', 'b', 'c', 'd'] ['d', 'c', 'b', 'a']\n",
      "After:  ['d', 'c', 'b', 'a']\n"
     ]
    }
   ],
   "source": [
    "# not swapping, but copies to another place in memory\n",
    "\n",
    "my_list_copy = my_list[::-1]\n",
    "\n",
    "array = ['a', 'b', 'c', 'd']\n",
    "new_array = ['a'] * len(array)    # Creates a new array of the same size and additional space in memory\n",
    "\n",
    "print('Before: ', array)\n",
    "\n",
    "length = len(array) - 1\n",
    "\n",
    "for i in range(length):\n",
    "    new_array[i] = array[length - i]\n",
    "print(array, new_array)    # new_array does not share memory space\n",
    "\n",
    "array = new_array    # Now array is pointing to the memory address of new_array\n",
    "print('After: ', array)\n",
    "\n",
    "new_array[2] = 'Beef'   # We can verify because changing array also changes new_array\n"
   ]
  },
  {
   "cell_type": "markdown",
   "metadata": {},
   "source": [
    "#### In-Class Exercise #1 <br>\n",
    "<p>Write a function that takes in four arguments (list, index1, index2, index3), and swaps those three positions in the list passed in.</p>"
   ]
  },
  {
   "cell_type": "code",
   "execution_count": 23,
   "metadata": {},
   "outputs": [
    {
     "name": "stdout",
     "output_type": "stream",
     "text": [
      "[10, 4, 3, 8, 4, 2, 6]\n",
      "[10, 4, 4, 3, 8, 2, 6]\n"
     ]
    }
   ],
   "source": [
    "test_list = [10, 4, 3, 8, 4, 2, 6]\n",
    "\n",
    "def my_swap(list1, index1, index2, index3):\n",
    "    list1[index1], list1[index2], list1[index3] = list1[index3], list1[index1], list1[index2]\n",
    "    \n",
    "print(test_list)\n",
    "my_swap(test_list, 2, 3, 4)\n",
    "print(test_list)\n"
   ]
  },
  {
   "cell_type": "markdown",
   "metadata": {},
   "source": [
    "## Two Pointers"
   ]
  },
  {
   "cell_type": "markdown",
   "metadata": {},
   "source": [
    "#### Syntax"
   ]
  },
  {
   "cell_type": "code",
   "execution_count": 26,
   "metadata": {},
   "outputs": [
    {
     "data": {
      "text/plain": [
       "[22, 11, 4, 8, 9, 12, 3, 2, 1]"
      ]
     },
     "execution_count": 26,
     "metadata": {},
     "output_type": "execute_result"
    }
   ],
   "source": [
    "# alist[left], alist[right] = alist[right], alist[left]\n",
    "def two_pointers(alist):\n",
    "    #create the pointers\n",
    "    left = 0\n",
    "    right = len(alist) - 1\n",
    "    while left <= right:\n",
    "        alist[left], alist[right] = alist[right], alist[left]\n",
    "        left += 1\n",
    "        right -= 1\n",
    "    return alist\n",
    "\n",
    "my_list2 = [1, 2, 3, 12, 9, 8, 4, 11, 22]\n",
    "two_pointers(my_list2)"
   ]
  },
  {
   "cell_type": "markdown",
   "metadata": {},
   "source": [
    "#### Video of Algorithms <br>\n",
    "<p>Watch the video about algorithms.</p>\n",
    "\n",
    "https://www.youtube.com/watch?v=Q9HjeFD62Uk\n",
    "\n",
    "https://www.youtube.com/watch?v=kPRA0W1kECg\n",
    "\n",
    "https://www.youtube.com/watch?v=ZZuD6iUe3Pc"
   ]
  },
  {
   "cell_type": "markdown",
   "metadata": {},
   "source": [
    "# Sorting Algorithms"
   ]
  },
  {
   "cell_type": "markdown",
   "metadata": {},
   "source": [
    "#### Bubble Sort\n",
    "\n",
    "Worst Case: O(n^2) Time - O(1) Space"
   ]
  },
  {
   "cell_type": "code",
   "execution_count": 28,
   "metadata": {},
   "outputs": [
    {
     "data": {
      "text/plain": [
       "[1, 22, 34, 44, 55, 66, 88, 100]"
      ]
     },
     "execution_count": 28,
     "metadata": {},
     "output_type": "execute_result"
    }
   ],
   "source": [
    "# best case: 0(n)  ---- linear\n",
    "def swap(i, j, array):\n",
    "    array[i], array[j] = array[j], array[i]\n",
    "    \n",
    "def bubble_sort(array):\n",
    "    is_sorted = False\n",
    "    while not is_sorted:\n",
    "        is_sorted = True\n",
    "        for num in range(len(array) - 1):\n",
    "            if array[num] > array[num+1]:\n",
    "                swap(num, num+1, array)\n",
    "                is_sorted = False\n",
    "    return array\n",
    "\n",
    "bubble_sort([22, 55, 88, 44, 1 ,100, 34, 66])\n",
    "\n",
    "# very slow, compares elements one at a time, possibly running into O(n^2)"
   ]
  },
  {
   "cell_type": "markdown",
   "metadata": {},
   "source": [
    "##### Insertion Sort\n",
    "\n",
    "Worst Case: O(n^2) time - O(1)space"
   ]
  },
  {
   "cell_type": "code",
   "execution_count": 31,
   "metadata": {},
   "outputs": [
    {
     "data": {
      "text/plain": [
       "[1, 22, 34, 44, 55, 66, 88, 100]"
      ]
     },
     "execution_count": 31,
     "metadata": {},
     "output_type": "execute_result"
    }
   ],
   "source": [
    "# this sort ensures everything behind the index of the outer for loop is \n",
    "# in order. Sends elements back to their position in the ordered portion\n",
    "# of the list individually. Not very fast.\n",
    "\n",
    "def swap(i, j, array):\n",
    "    array[i], array[j] = array[j], array[i]\n",
    "\n",
    "def insertion_sort(array):\n",
    "    for i in range(1, len(array)):\n",
    "        j = i\n",
    "        while j > 0 and array[j] < array[j-1]:\n",
    "            swap(j, j - 1, array)\n",
    "            j -= 1\n",
    "    return array\n",
    "\n",
    "insertion_sort([22, 55, 88, 44, 1 ,100, 34, 66])\n"
   ]
  },
  {
   "cell_type": "markdown",
   "metadata": {},
   "source": [
    "## Merge Sort"
   ]
  },
  {
   "cell_type": "markdown",
   "metadata": {},
   "source": [
    "#### How it Works"
   ]
  },
  {
   "cell_type": "code",
   "execution_count": 39,
   "metadata": {},
   "outputs": [
    {
     "data": {
      "text/plain": [
       "[2, 2, 4, 4, 7, 7, 8, 10, 11, 11, 12, 15, 16, 17, 18, 18, 18, 20, 20, 20]"
      ]
     },
     "execution_count": 39,
     "metadata": {},
     "output_type": "execute_result"
    }
   ],
   "source": [
    "# Step 1: Split everything into its own group\n",
    "# Step 2: From left to right, merge groups together\n",
    "# Step 3: While merging, place each item in the correct position within the merged group\n",
    "# Step 4: continue steps 3-4 until only one group is left.\n",
    "\n",
    "from random import randint\n",
    "\n",
    "nums = [randint(0, 20) for x in range(20)]\n",
    "    \n",
    "def merge_sort(array):\n",
    "    if len(array) > 1:    # Step 1: splitting\n",
    "        mid = len(array)//2\n",
    "        left_half = array[:mid]\n",
    "        right_half = array[mid:]\n",
    "        merge_sort(left_half)\n",
    "        merge_sort(right_half)\n",
    "    \n",
    "        i, k, j = 0, 0, 0\n",
    "\n",
    "        #step 2: Compare left and right\n",
    "        while i < len(left_half) and j < len(right_half):\n",
    "            if left_half[i] < right_half[j]:\n",
    "                array[k] = left_half[i]\n",
    "                i += 1\n",
    "            else:\n",
    "                array[k] = right_half[j]\n",
    "                j += 1\n",
    "            k += 1\n",
    "        # Step 3: while merging, place items in correct positions\n",
    "        # these two loops cath left over elements from the previous step\n",
    "        # one of the lists will \"run out\" of elements before the other\n",
    "        while i < len(left_half):\n",
    "            array[k] = left_half[i]\n",
    "            i += 1\n",
    "            k += 1\n",
    "        while j < len(right_half):\n",
    "            array[k] = right_half[j]\n",
    "            j += 1\n",
    "            k += 1\n",
    "    return array\n",
    "\n",
    "merge_sort(nums)\n"
   ]
  },
  {
   "cell_type": "markdown",
   "metadata": {},
   "source": [
    "# Binary Search\n",
    "\n",
    "The Binary Search algorithm works by finding the number in the middle of a given array and comparing it to the target. Given that the array is sorted\n",
    "\n",
    "* The worst case run time for this algorithm is `O(log(n))`"
   ]
  },
  {
   "cell_type": "code",
   "execution_count": null,
   "metadata": {},
   "outputs": [],
   "source": [
    "def binary_search(list1, value):\n",
    "    left, right = 0, len(list1) - 1\n",
    "    while left <= right:\n",
    "        mid = (left + right) // 2\n",
    "        if list1[mid] == value:\n",
    "            return mid\n",
    "        elif list1[mid] < value:\n",
    "            left = mid + 1\n",
    "        elif list1[mid] > value:\n",
    "            right = mid - 1\n",
    "    return -1\n",
    "            "
   ]
  },
  {
   "cell_type": "markdown",
   "metadata": {},
   "source": [
    "# Exercises"
   ]
  },
  {
   "cell_type": "markdown",
   "metadata": {},
   "source": [
    "### Exercise #1 <br>\n",
    "<p>Reverse the list below in-place using an in-place algorithm.<br>For extra credit: Reverse the strings at the same time.</p>"
   ]
  },
  {
   "cell_type": "code",
   "execution_count": 50,
   "metadata": {},
   "outputs": [
    {
     "name": "stdout",
     "output_type": "stream",
     "text": [
      "['.', 'ecnetnes', 'a', 'si', 'siht']\n"
     ]
    }
   ],
   "source": [
    "words = ['this' , 'is', 'a', 'sentence', '.']\n",
    "\n",
    "def swap_and_reverse(array, i, j):\n",
    "    array[i], array[j] = array[j][::-1], array[i][::-1]\n",
    "\n",
    "def reverse(array):\n",
    "    i, j = 0, len(array) - 1\n",
    "    while i <= j:\n",
    "        swap_and_reverse(array, i, j)\n",
    "        i += 1\n",
    "        j -= 1\n",
    "    return array\n",
    "\n",
    "print(reverse(words))\n",
    "\n",
    "\n"
   ]
  },
  {
   "cell_type": "markdown",
   "metadata": {},
   "source": [
    "### Exercise #2 <br>\n",
    "<p>Create a function that counts how many distinct words are in the string below, then outputs a dictionary with the words as the key and the value as the amount of times that word appears in the string.<br>Should output:<br>{'a': 5,<br>\n",
    " 'abstract': 1,<br>\n",
    " 'an': 3,<br>\n",
    " 'array': 2, ... etc...</p>"
   ]
  },
  {
   "cell_type": "code",
   "execution_count": 13,
   "metadata": {},
   "outputs": [
    {
     "name": "stdout",
     "output_type": "stream",
     "text": [
      "{'a': 5, 'abstract': 1, 'an': 3, 'array': 2, 'associative': 1, 'be': 1, 'buckets': 1, 'can': 2, 'compute': 1, 'computing': 1, 'data': 2, 'desired': 1, 'found': 1, 'from': 1, 'function': 1, 'hash': 4, 'implements': 1, 'in': 1, 'index': 1, 'into': 1, 'is': 1, 'keys': 1, 'map': 2, 'of': 1, 'or': 1, 'slots': 1, 'structure': 2, 'table': 2, 'that': 1, 'the': 1, 'to': 2, 'type': 1, 'uses': 1, 'value': 1, 'values': 1, 'which': 2}\n"
     ]
    }
   ],
   "source": [
    "a_text = 'In computing, a hash table hash map is a data structure which implements an associative array abstract data type, a structure that can map keys to values. A hash table uses a hash function to compute an index into an array of buckets or slots from which the desired value can be found'\n",
    "\n",
    "word_count_dict = {}\n",
    "\n",
    "word_list = [item.rstrip('.!?, ').lower() for item in a_text.split(' ')]\n",
    "\n",
    "while word_list:\n",
    "    current_word = word_list.pop()\n",
    "    if current_word in word_count_dict.keys():\n",
    "        continue\n",
    "    else:\n",
    "        word_count_dict[current_word] = word_list.count(current_word) + 1\n",
    "\n",
    "print(dict(sorted(word_count_dict.items())))"
   ]
  },
  {
   "cell_type": "markdown",
   "metadata": {},
   "source": [
    "## Exercise #3\n",
    "\n",
    "Write a program to implement a Linear Search Algorithm. Also in a comment, write the Time Complexity of the following algorithm.\n",
    "\n",
    "#### Hint: Linear Searching will require searching a list for a given number. "
   ]
  },
  {
   "cell_type": "code",
   "execution_count": 52,
   "metadata": {},
   "outputs": [
    {
     "name": "stdout",
     "output_type": "stream",
     "text": [
      "[3, 8, 16, 14, 10, 19, 10, 6, 11, 8, 17, 0, 1, 7, 20]\n"
     ]
    },
    {
     "data": {
      "text/plain": [
       "'6 exists at index 7'"
      ]
     },
     "execution_count": 52,
     "metadata": {},
     "output_type": "execute_result"
    }
   ],
   "source": [
    "# linear search time complexity: O(n)\n",
    "# and because it simply iterates through to find, linear search will return the\n",
    "# first occurance if multiple matches exist\n",
    "\n",
    "from random import randint\n",
    "test_list = [randint(0, 20) for x in range(15)]\n",
    "print(test_list)\n",
    "\n",
    "def linear_search(array, value):\n",
    "    '''\n",
    "        Performs a linear search on an array for a value\n",
    "        \n",
    "        array: expected to be a list\n",
    "        value: expected to be of the type contained in the list\n",
    "    '''\n",
    "    for i, item in enumerate(array):\n",
    "        if item == value:\n",
    "            return f'{value} exists at index {i}'\n",
    "    return -1\n",
    "\n",
    "search_value = 6\n",
    "linear_search(test_list, search_value)"
   ]
  }
 ],
 "metadata": {
  "kernelspec": {
   "display_name": "Python 3 (ipykernel)",
   "language": "python",
   "name": "python3"
  },
  "language_info": {
   "codemirror_mode": {
    "name": "ipython",
    "version": 3
   },
   "file_extension": ".py",
   "mimetype": "text/x-python",
   "name": "python",
   "nbconvert_exporter": "python",
   "pygments_lexer": "ipython3",
   "version": "3.11.4"
  }
 },
 "nbformat": 4,
 "nbformat_minor": 2
}
